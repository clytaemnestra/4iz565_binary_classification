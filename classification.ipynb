{
 "cells": [
  {
   "cell_type": "markdown",
   "metadata": {
    "papermill": {
     "duration": 0.0247,
     "end_time": "2021-04-11T12:54:07.434304",
     "exception": false,
     "start_time": "2021-04-11T12:54:07.409604",
     "status": "completed"
    },
    "tags": []
   },
   "source": [
    "<h1> HR Analytics: Job Change of Data Scientists"
   ]
  },
  {
   "cell_type": "markdown",
   "metadata": {
    "papermill": {
     "duration": 0.022553,
     "end_time": "2021-04-11T12:54:07.481751",
     "exception": false,
     "start_time": "2021-04-11T12:54:07.459198",
     "status": "completed"
    },
    "tags": []
   },
   "source": [
    "![gif](https://westwoodcardinalchronicle.com/wp-content/uploads/2015/05/should-i-stay.gif \"should i stay or should i go\")"
   ]
  },
  {
   "cell_type": "markdown",
   "metadata": {
    "papermill": {
     "duration": 0.022373,
     "end_time": "2021-04-11T12:54:07.526841",
     "exception": false,
     "start_time": "2021-04-11T12:54:07.504468",
     "status": "completed"
    },
    "tags": []
   },
   "source": [
    "\n",
    "**Task Details**\n",
    "\n",
    "This dataset is designed to understand the factors that lead employee to leave current job by various ML models that use the current credentials/demographics/experience/work status to predict the probability of a employee to look for a new job or will work for the company.\n",
    "\n",
    "**Notes**\n",
    "\n",
    "The dataset is heavily imbalanced.\n",
    "\n",
    "Most features are categorical (Nominal, Ordinal, Binary), some with high cardinality.\n",
    "\n",
    "**Columns**\n",
    "\n",
    "enrollee_id : Unique ID for candidate\n",
    "\n",
    "city: City code\n",
    "\n",
    "city_development_index : Developement index of the city (scaled)\n",
    "\n",
    "gender: Gender of candidate\n",
    "\n",
    "relevent_experience: Relevant experience of candidate\n",
    "\n",
    "enrolled_university: Type of University course enrolled if any\n",
    "\n",
    "education_level: Education level of candidate\n",
    "\n",
    "major_discipline: Education major discipline of candidate\n",
    "\n",
    "experience: Candidate total experience in years\n",
    "\n",
    "company_size: No of employees in current employer's company\n",
    "\n",
    "company_type : Type of current employer\n",
    "\n",
    "lastnewjob: Difference in years between previous job and current job\n",
    "\n",
    "training_hours: training hours completed\n",
    "\n",
    "**target: 0 – Not looking for job change, 1 – Looking for a job change**"
   ]
  },
  {
   "cell_type": "markdown",
   "metadata": {
    "papermill": {
     "duration": 0.022307,
     "end_time": "2021-04-11T12:54:07.571864",
     "exception": false,
     "start_time": "2021-04-11T12:54:07.549557",
     "status": "completed"
    },
    "tags": []
   },
   "source": [
    "<h1> Import data libraries"
   ]
  },
  {
   "cell_type": "code",
   "execution_count": 1,
   "metadata": {
    "_cell_guid": "b1076dfc-b9ad-4769-8c92-a6c4dae69d19",
    "_kg_hide-input": false,
    "_uuid": "8f2839f25d086af736a60e9eeb907d3b93b6e0e5",
    "execution": {
     "iopub.execute_input": "2021-04-11T12:54:07.620460Z",
     "iopub.status.busy": "2021-04-11T12:54:07.619872Z",
     "iopub.status.idle": "2021-04-11T12:54:09.422787Z",
     "shell.execute_reply": "2021-04-11T12:54:09.422146Z"
    },
    "papermill": {
     "duration": 1.828507,
     "end_time": "2021-04-11T12:54:09.422998",
     "exception": false,
     "start_time": "2021-04-11T12:54:07.594491",
     "status": "completed"
    },
    "tags": []
   },
   "outputs": [],
   "source": [
    "import numpy as np\n",
    "import pandas as pd\n",
    "import seaborn as sns \n",
    "import matplotlib.pyplot as plt\n",
    "from xgboost import XGBClassifier\n",
    "from sklearn.model_selection import train_test_split\n",
    "from imblearn.over_sampling import RandomOverSampler\n",
    "from collections import Counter\n",
    "from sklearn.preprocessing import OrdinalEncoder\n",
    "from sklearn.pipeline import Pipeline\n",
    "from sklearn.compose import ColumnTransformer\n",
    "from sklearn.tree import DecisionTreeClassifier\n",
    "from sklearn.model_selection import GridSearchCV\n",
    "from sklearn.tree import DecisionTreeClassifier\n",
    "from sklearn.metrics import plot_roc_curve\n",
    "from sklearn.dummy import DummyClassifier\n",
    "from sklearn.metrics import accuracy_score\n",
    "from sklearn.metrics import classification_report\n",
    "from sklearn.ensemble import RandomForestClassifier\n",
    "from sklearn.model_selection import GridSearchCV\n",
    "from sklearn.linear_model import LogisticRegression"
   ]
  },
  {
   "cell_type": "markdown",
   "metadata": {
    "papermill": {
     "duration": 0.022497,
     "end_time": "2021-04-11T12:54:09.469335",
     "exception": false,
     "start_time": "2021-04-11T12:54:09.446838",
     "status": "completed"
    },
    "tags": []
   },
   "source": [
    "<h1> Load data"
   ]
  },
  {
   "cell_type": "code",
   "execution_count": 2,
   "metadata": {
    "execution": {
     "iopub.execute_input": "2021-04-11T12:54:09.520318Z",
     "iopub.status.busy": "2021-04-11T12:54:09.519728Z",
     "iopub.status.idle": "2021-04-11T12:54:09.603714Z",
     "shell.execute_reply": "2021-04-11T12:54:09.603181Z"
    },
    "papermill": {
     "duration": 0.11143,
     "end_time": "2021-04-11T12:54:09.603856",
     "exception": false,
     "start_time": "2021-04-11T12:54:09.492426",
     "status": "completed"
    },
    "tags": []
   },
   "outputs": [],
   "source": [
    "train_data = pd.read_csv('../input/hr-analytics-job-change-of-data-scientists/aug_train.csv') "
   ]
  },
  {
   "cell_type": "markdown",
   "metadata": {
    "papermill": {
     "duration": 0.022759,
     "end_time": "2021-04-11T12:54:09.649809",
     "exception": false,
     "start_time": "2021-04-11T12:54:09.627050",
     "status": "completed"
    },
    "tags": []
   },
   "source": [
    "<h1> Exploratory Data Analysis"
   ]
  },
  {
   "cell_type": "code",
   "execution_count": 3,
   "metadata": {
    "execution": {
     "iopub.execute_input": "2021-04-11T12:54:09.708977Z",
     "iopub.status.busy": "2021-04-11T12:54:09.708349Z",
     "iopub.status.idle": "2021-04-11T12:54:09.733456Z",
     "shell.execute_reply": "2021-04-11T12:54:09.733980Z"
    },
    "papermill": {
     "duration": 0.061302,
     "end_time": "2021-04-11T12:54:09.734149",
     "exception": false,
     "start_time": "2021-04-11T12:54:09.672847",
     "status": "completed"
    },
    "tags": []
   },
   "outputs": [
    {
     "data": {
      "text/html": [
       "<div>\n",
       "<style scoped>\n",
       "    .dataframe tbody tr th:only-of-type {\n",
       "        vertical-align: middle;\n",
       "    }\n",
       "\n",
       "    .dataframe tbody tr th {\n",
       "        vertical-align: top;\n",
       "    }\n",
       "\n",
       "    .dataframe thead th {\n",
       "        text-align: right;\n",
       "    }\n",
       "</style>\n",
       "<table border=\"1\" class=\"dataframe\">\n",
       "  <thead>\n",
       "    <tr style=\"text-align: right;\">\n",
       "      <th></th>\n",
       "      <th>enrollee_id</th>\n",
       "      <th>city</th>\n",
       "      <th>city_development_index</th>\n",
       "      <th>gender</th>\n",
       "      <th>relevent_experience</th>\n",
       "      <th>enrolled_university</th>\n",
       "      <th>education_level</th>\n",
       "      <th>major_discipline</th>\n",
       "      <th>experience</th>\n",
       "      <th>company_size</th>\n",
       "      <th>company_type</th>\n",
       "      <th>last_new_job</th>\n",
       "      <th>training_hours</th>\n",
       "      <th>target</th>\n",
       "    </tr>\n",
       "  </thead>\n",
       "  <tbody>\n",
       "    <tr>\n",
       "      <th>0</th>\n",
       "      <td>8949</td>\n",
       "      <td>city_103</td>\n",
       "      <td>0.920</td>\n",
       "      <td>Male</td>\n",
       "      <td>Has relevent experience</td>\n",
       "      <td>no_enrollment</td>\n",
       "      <td>Graduate</td>\n",
       "      <td>STEM</td>\n",
       "      <td>&gt;20</td>\n",
       "      <td>NaN</td>\n",
       "      <td>NaN</td>\n",
       "      <td>1</td>\n",
       "      <td>36</td>\n",
       "      <td>1.0</td>\n",
       "    </tr>\n",
       "    <tr>\n",
       "      <th>1</th>\n",
       "      <td>29725</td>\n",
       "      <td>city_40</td>\n",
       "      <td>0.776</td>\n",
       "      <td>Male</td>\n",
       "      <td>No relevent experience</td>\n",
       "      <td>no_enrollment</td>\n",
       "      <td>Graduate</td>\n",
       "      <td>STEM</td>\n",
       "      <td>15</td>\n",
       "      <td>50-99</td>\n",
       "      <td>Pvt Ltd</td>\n",
       "      <td>&gt;4</td>\n",
       "      <td>47</td>\n",
       "      <td>0.0</td>\n",
       "    </tr>\n",
       "    <tr>\n",
       "      <th>2</th>\n",
       "      <td>11561</td>\n",
       "      <td>city_21</td>\n",
       "      <td>0.624</td>\n",
       "      <td>NaN</td>\n",
       "      <td>No relevent experience</td>\n",
       "      <td>Full time course</td>\n",
       "      <td>Graduate</td>\n",
       "      <td>STEM</td>\n",
       "      <td>5</td>\n",
       "      <td>NaN</td>\n",
       "      <td>NaN</td>\n",
       "      <td>never</td>\n",
       "      <td>83</td>\n",
       "      <td>0.0</td>\n",
       "    </tr>\n",
       "    <tr>\n",
       "      <th>3</th>\n",
       "      <td>33241</td>\n",
       "      <td>city_115</td>\n",
       "      <td>0.789</td>\n",
       "      <td>NaN</td>\n",
       "      <td>No relevent experience</td>\n",
       "      <td>NaN</td>\n",
       "      <td>Graduate</td>\n",
       "      <td>Business Degree</td>\n",
       "      <td>&lt;1</td>\n",
       "      <td>NaN</td>\n",
       "      <td>Pvt Ltd</td>\n",
       "      <td>never</td>\n",
       "      <td>52</td>\n",
       "      <td>1.0</td>\n",
       "    </tr>\n",
       "    <tr>\n",
       "      <th>4</th>\n",
       "      <td>666</td>\n",
       "      <td>city_162</td>\n",
       "      <td>0.767</td>\n",
       "      <td>Male</td>\n",
       "      <td>Has relevent experience</td>\n",
       "      <td>no_enrollment</td>\n",
       "      <td>Masters</td>\n",
       "      <td>STEM</td>\n",
       "      <td>&gt;20</td>\n",
       "      <td>50-99</td>\n",
       "      <td>Funded Startup</td>\n",
       "      <td>4</td>\n",
       "      <td>8</td>\n",
       "      <td>0.0</td>\n",
       "    </tr>\n",
       "  </tbody>\n",
       "</table>\n",
       "</div>"
      ],
      "text/plain": [
       "   enrollee_id      city  city_development_index gender  \\\n",
       "0         8949  city_103                   0.920   Male   \n",
       "1        29725   city_40                   0.776   Male   \n",
       "2        11561   city_21                   0.624    NaN   \n",
       "3        33241  city_115                   0.789    NaN   \n",
       "4          666  city_162                   0.767   Male   \n",
       "\n",
       "       relevent_experience enrolled_university education_level  \\\n",
       "0  Has relevent experience       no_enrollment        Graduate   \n",
       "1   No relevent experience       no_enrollment        Graduate   \n",
       "2   No relevent experience    Full time course        Graduate   \n",
       "3   No relevent experience                 NaN        Graduate   \n",
       "4  Has relevent experience       no_enrollment         Masters   \n",
       "\n",
       "  major_discipline experience company_size    company_type last_new_job  \\\n",
       "0             STEM        >20          NaN             NaN            1   \n",
       "1             STEM         15        50-99         Pvt Ltd           >4   \n",
       "2             STEM          5          NaN             NaN        never   \n",
       "3  Business Degree         <1          NaN         Pvt Ltd        never   \n",
       "4             STEM        >20        50-99  Funded Startup            4   \n",
       "\n",
       "   training_hours  target  \n",
       "0              36     1.0  \n",
       "1              47     0.0  \n",
       "2              83     0.0  \n",
       "3              52     1.0  \n",
       "4               8     0.0  "
      ]
     },
     "execution_count": 3,
     "metadata": {},
     "output_type": "execute_result"
    }
   ],
   "source": [
    "train_data.head()"
   ]
  },
  {
   "cell_type": "code",
   "execution_count": 4,
   "metadata": {
    "execution": {
     "iopub.execute_input": "2021-04-11T12:54:09.787601Z",
     "iopub.status.busy": "2021-04-11T12:54:09.786762Z",
     "iopub.status.idle": "2021-04-11T12:54:09.791373Z",
     "shell.execute_reply": "2021-04-11T12:54:09.790799Z"
    },
    "papermill": {
     "duration": 0.03333,
     "end_time": "2021-04-11T12:54:09.791509",
     "exception": false,
     "start_time": "2021-04-11T12:54:09.758179",
     "status": "completed"
    },
    "tags": []
   },
   "outputs": [
    {
     "data": {
      "text/plain": [
       "(19158, 14)"
      ]
     },
     "execution_count": 4,
     "metadata": {},
     "output_type": "execute_result"
    }
   ],
   "source": [
    "train_data.shape"
   ]
  },
  {
   "cell_type": "markdown",
   "metadata": {
    "papermill": {
     "duration": 0.023906,
     "end_time": "2021-04-11T12:54:09.839704",
     "exception": false,
     "start_time": "2021-04-11T12:54:09.815798",
     "status": "completed"
    },
    "tags": []
   },
   "source": [
    "It looks like some values in the dataset are NaN, we would like to further inspect to which extent it affects our data."
   ]
  },
  {
   "cell_type": "code",
   "execution_count": 5,
   "metadata": {
    "execution": {
     "iopub.execute_input": "2021-04-11T12:54:09.902642Z",
     "iopub.status.busy": "2021-04-11T12:54:09.901724Z",
     "iopub.status.idle": "2021-04-11T12:54:09.908819Z",
     "shell.execute_reply": "2021-04-11T12:54:09.908319Z"
    },
    "papermill": {
     "duration": 0.044593,
     "end_time": "2021-04-11T12:54:09.908956",
     "exception": false,
     "start_time": "2021-04-11T12:54:09.864363",
     "status": "completed"
    },
    "tags": []
   },
   "outputs": [
    {
     "name": "stdout",
     "output_type": "stream",
     "text": [
      "Missing values in the train dataset:\n",
      "\n",
      " enrollee_id                  0\n",
      "city                         0\n",
      "city_development_index       0\n",
      "gender                    4508\n",
      "relevent_experience          0\n",
      "enrolled_university        386\n",
      "education_level            460\n",
      "major_discipline          2813\n",
      "experience                  65\n",
      "company_size              5938\n",
      "company_type              6140\n",
      "last_new_job               423\n",
      "training_hours               0\n",
      "target                       0\n",
      "dtype: int64\n"
     ]
    }
   ],
   "source": [
    "print(\"Missing values in the train dataset:\\n\\n\",train_data.isna().sum())"
   ]
  },
  {
   "cell_type": "markdown",
   "metadata": {
    "papermill": {
     "duration": 0.025038,
     "end_time": "2021-04-11T12:54:09.958393",
     "exception": false,
     "start_time": "2021-04-11T12:54:09.933355",
     "status": "completed"
    },
    "tags": []
   },
   "source": [
    "Let's plot all the column into barcharts to see the distribution of values. As we want our chart to be accesible, we will use colorblind palette. 👀"
   ]
  },
  {
   "cell_type": "code",
   "execution_count": 6,
   "metadata": {
    "execution": {
     "iopub.execute_input": "2021-04-11T12:54:10.038939Z",
     "iopub.status.busy": "2021-04-11T12:54:10.016923Z",
     "iopub.status.idle": "2021-04-11T12:54:11.567849Z",
     "shell.execute_reply": "2021-04-11T12:54:11.567250Z"
    },
    "papermill": {
     "duration": 1.585238,
     "end_time": "2021-04-11T12:54:11.567988",
     "exception": false,
     "start_time": "2021-04-11T12:54:09.982750",
     "status": "completed"
    },
    "tags": []
   },
   "outputs": [
    {
     "data": {
      "image/png": "[encoded data removed]",
      "text/plain": [
       "<Figure size 864x468 with 1 Axes>"
      ]
     },
     "metadata": {
      "needs_background": "light"
     },
     "output_type": "display_data"
    },
    {
     "data": {
      "image/png": "[encoded data removed]",
      "text/plain": [
       "<Figure size 864x468 with 1 Axes>"
      ]
     },
     "metadata": {
      "needs_background": "light"
     },
     "output_type": "display_data"
    },
    {
     "data": {
      "image/png": "[encoded data removed]",
      "text/plain": [
       "<Figure size 864x468 with 1 Axes>"
      ]
     },
     "metadata": {
      "needs_background": "light"
     },
     "output_type": "display_data"
    },
    {
     "data": {
      "image/png": "[encoded data removed]",
      "text/plain": [
       "<Figure size 864x468 with 1 Axes>"
      ]
     },
     "metadata": {
      "needs_background": "light"
     },
     "output_type": "display_data"
    },
    {
     "data": {
      "image/png": "[encoded data removed]",
      "text/plain": [
       "<Figure size 864x468 with 1 Axes>"
      ]
     },
     "metadata": {
      "needs_background": "light"
     },
     "output_type": "display_data"
    },
    {
     "data": {
      "image/png": "[encoded data removed]",
      "text/plain": [
       "<Figure size 864x468 with 1 Axes>"
      ]
     },
     "metadata": {
      "needs_background": "light"
     },
     "output_type": "display_data"
    },
    {
     "data": {
      "image/png": "[encoded data removed]",
      "text/plain": [
       "<Figure size 864x468 with 1 Axes>"
      ]
     },
     "metadata": {
      "needs_background": "light"
     },
     "output_type": "display_data"
    },
    {
     "data": {
      "image/png": "[encoded data removed]",
      "text/plain": [
       "<Figure size 864x468 with 1 Axes>"
      ]
     },
     "metadata": {
      "needs_background": "light"
     },
     "output_type": "display_data"
    }
   ],
   "source": [
    "cols_with_nan_data = train_data[['gender', 'enrolled_university', 'major_discipline', 'experience', 'company_size', 'last_new_job', 'company_type', 'education_level']]   \n",
    "colorblind_palette = sns.color_palette(\"colorblind\")\n",
    "\n",
    "for i in cols_with_nan_data:\n",
    "    plt.figure(figsize=(12,6.5)) \n",
    "    plt.title(i, fontsize=15, fontweight='bold', fontname='Helvetica', ha='center')\n",
    "    sns.countplot(data = train_data[i], x = cols_with_nan_data[i], palette=colorblind_palette)\n",
    "    plt.show()"
   ]
  },
  {
   "cell_type": "markdown",
   "metadata": {
    "papermill": {
     "duration": 0.029586,
     "end_time": "2021-04-11T12:54:11.628039",
     "exception": false,
     "start_time": "2021-04-11T12:54:11.598453",
     "status": "completed"
    },
    "tags": []
   },
   "source": [
    "We are also interested in whether the target variable is balanced or not."
   ]
  },
  {
   "cell_type": "code",
   "execution_count": 7,
   "metadata": {
    "execution": {
     "iopub.execute_input": "2021-04-11T12:54:11.710107Z",
     "iopub.status.busy": "2021-04-11T12:54:11.706698Z",
     "iopub.status.idle": "2021-04-11T12:54:11.817229Z",
     "shell.execute_reply": "2021-04-11T12:54:11.816687Z"
    },
    "papermill": {
     "duration": 0.159601,
     "end_time": "2021-04-11T12:54:11.817360",
     "exception": false,
     "start_time": "2021-04-11T12:54:11.657759",
     "status": "completed"
    },
    "tags": []
   },
   "outputs": [
    {
     "data": {
      "image/png": "[encoded data removed]",
      "text/plain": [
       "<Figure size 864x432 with 1 Axes>"
      ]
     },
     "metadata": {
      "needs_background": "light"
     },
     "output_type": "display_data"
    }
   ],
   "source": [
    "plt.figure(figsize=(12,6))\n",
    "plt.title(\"Imbalanced target variable\", fontsize=15, fontweight='bold', fontname='Helvetica', ha='center')\n",
    "ax = sns.countplot(x='target', data=train_data)"
   ]
  },
  {
   "cell_type": "markdown",
   "metadata": {
    "papermill": {
     "duration": 0.030331,
     "end_time": "2021-04-11T12:54:11.878270",
     "exception": false,
     "start_time": "2021-04-11T12:54:11.847939",
     "status": "completed"
    },
    "tags": []
   },
   "source": [
    "**From the information we've learned about our dataset, we have to deal with the following challenges:**\n",
    "* There are NaN values in some attributes  that we need to replace properly (new category, replace with most frequent values, median, mean,...)\n",
    "* The target variable \"target\" is highly unbalanced, it needs to be balanced in order to be able to implement ML with fair results"
   ]
  },
  {
   "cell_type": "markdown",
   "metadata": {
    "papermill": {
     "duration": 0.030844,
     "end_time": "2021-04-11T12:54:11.939801",
     "exception": false,
     "start_time": "2021-04-11T12:54:11.908957",
     "status": "completed"
    },
    "tags": []
   },
   "source": [
    "<h1> Data wrangling"
   ]
  },
  {
   "cell_type": "markdown",
   "metadata": {
    "papermill": {
     "duration": 0.030747,
     "end_time": "2021-04-11T12:54:12.001274",
     "exception": false,
     "start_time": "2021-04-11T12:54:11.970527",
     "status": "completed"
    },
    "tags": []
   },
   "source": [
    "<h2>Handling null values"
   ]
  },
  {
   "cell_type": "code",
   "execution_count": 8,
   "metadata": {
    "execution": {
     "iopub.execute_input": "2021-04-11T12:54:12.067854Z",
     "iopub.status.busy": "2021-04-11T12:54:12.067243Z",
     "iopub.status.idle": "2021-04-11T12:54:12.070754Z",
     "shell.execute_reply": "2021-04-11T12:54:12.071203Z"
    },
    "papermill": {
     "duration": 0.038241,
     "end_time": "2021-04-11T12:54:12.071359",
     "exception": false,
     "start_time": "2021-04-11T12:54:12.033118",
     "status": "completed"
    },
    "tags": []
   },
   "outputs": [
    {
     "data": {
      "text/plain": [
       "(19158, 14)"
      ]
     },
     "execution_count": 8,
     "metadata": {},
     "output_type": "execute_result"
    }
   ],
   "source": [
    "data=train_data\n",
    "data.shape"
   ]
  },
  {
   "cell_type": "markdown",
   "metadata": {
    "papermill": {
     "duration": 0.030914,
     "end_time": "2021-04-11T12:54:12.132906",
     "exception": false,
     "start_time": "2021-04-11T12:54:12.101992",
     "status": "completed"
    },
    "tags": []
   },
   "source": [
    "Now we will take care of all attributes with NaN values as shown in graphs above."
   ]
  },
  {
   "cell_type": "code",
   "execution_count": 9,
   "metadata": {
    "execution": {
     "iopub.execute_input": "2021-04-11T12:54:12.197400Z",
     "iopub.status.busy": "2021-04-11T12:54:12.196855Z",
     "iopub.status.idle": "2021-04-11T12:54:12.350719Z",
     "shell.execute_reply": "2021-04-11T12:54:12.351234Z"
    },
    "papermill": {
     "duration": 0.187559,
     "end_time": "2021-04-11T12:54:12.351416",
     "exception": false,
     "start_time": "2021-04-11T12:54:12.163857",
     "status": "completed"
    },
    "tags": []
   },
   "outputs": [],
   "source": [
    "data['city'] = data['city'].str.split(\"_\",expand=True)[1].astype('int64')\n",
    "data['gender'] = data['gender'].replace(np.nan, 'Male')\n",
    "data['enrolled_university'] = data['enrolled_university'].replace(np.nan, 'no_enrollment')\n",
    "data['education_level'] = data['education_level'].replace(np.nan,'Graduate')\n",
    "data['major_discipline'] = data['major_discipline'].replace(np.nan,'STEM')\n",
    "data['experience'] = data['experience'].replace(np.nan,'>20')\n",
    "data['company_size'] = data['company_size'].replace(np.nan,'50-99')\n",
    "data['company_type'] = data['company_type'].replace(np.nan,'Pvt Ltd')\n",
    "data['last_new_job'] = data['last_new_job'].replace(np.nan,'1')"
   ]
  },
  {
   "cell_type": "markdown",
   "metadata": {
    "papermill": {
     "duration": 0.030836,
     "end_time": "2021-04-11T12:54:12.414207",
     "exception": false,
     "start_time": "2021-04-11T12:54:12.383371",
     "status": "completed"
    },
    "tags": []
   },
   "source": [
    "Since value 'Other' has very low frequency in gender attribute, we will get rid of it."
   ]
  },
  {
   "cell_type": "code",
   "execution_count": 10,
   "metadata": {
    "execution": {
     "iopub.execute_input": "2021-04-11T12:54:12.482481Z",
     "iopub.status.busy": "2021-04-11T12:54:12.481897Z",
     "iopub.status.idle": "2021-04-11T12:54:12.486422Z",
     "shell.execute_reply": "2021-04-11T12:54:12.486833Z"
    },
    "papermill": {
     "duration": 0.041622,
     "end_time": "2021-04-11T12:54:12.487000",
     "exception": false,
     "start_time": "2021-04-11T12:54:12.445378",
     "status": "completed"
    },
    "tags": []
   },
   "outputs": [],
   "source": [
    "data = data[data.gender != 'Other']"
   ]
  },
  {
   "cell_type": "code",
   "execution_count": 11,
   "metadata": {
    "execution": {
     "iopub.execute_input": "2021-04-11T12:54:12.551705Z",
     "iopub.status.busy": "2021-04-11T12:54:12.551153Z",
     "iopub.status.idle": "2021-04-11T12:54:12.555208Z",
     "shell.execute_reply": "2021-04-11T12:54:12.555724Z"
    },
    "papermill": {
     "duration": 0.037904,
     "end_time": "2021-04-11T12:54:12.555891",
     "exception": false,
     "start_time": "2021-04-11T12:54:12.517987",
     "status": "completed"
    },
    "tags": []
   },
   "outputs": [
    {
     "data": {
      "text/plain": [
       "(18967, 14)"
      ]
     },
     "execution_count": 11,
     "metadata": {},
     "output_type": "execute_result"
    }
   ],
   "source": [
    "data.shape"
   ]
  },
  {
   "cell_type": "markdown",
   "metadata": {
    "papermill": {
     "duration": 0.030744,
     "end_time": "2021-04-11T12:54:12.617841",
     "exception": false,
     "start_time": "2021-04-11T12:54:12.587097",
     "status": "completed"
    },
    "tags": []
   },
   "source": [
    "We've successfully replaced all NaN values:"
   ]
  },
  {
   "cell_type": "code",
   "execution_count": 12,
   "metadata": {
    "execution": {
     "iopub.execute_input": "2021-04-11T12:54:12.683373Z",
     "iopub.status.busy": "2021-04-11T12:54:12.682696Z",
     "iopub.status.idle": "2021-04-11T12:54:12.707409Z",
     "shell.execute_reply": "2021-04-11T12:54:12.706800Z"
    },
    "papermill": {
     "duration": 0.058446,
     "end_time": "2021-04-11T12:54:12.707543",
     "exception": false,
     "start_time": "2021-04-11T12:54:12.649097",
     "status": "completed"
    },
    "tags": []
   },
   "outputs": [
    {
     "name": "stdout",
     "output_type": "stream",
     "text": [
      "<class 'pandas.core.frame.DataFrame'>\n",
      "Int64Index: 18967 entries, 0 to 19157\n",
      "Data columns (total 14 columns):\n",
      " #   Column                  Non-Null Count  Dtype  \n",
      "---  ------                  --------------  -----  \n",
      " 0   enrollee_id             18967 non-null  int64  \n",
      " 1   city                    18967 non-null  int64  \n",
      " 2   city_development_index  18967 non-null  float64\n",
      " 3   gender                  18967 non-null  object \n",
      " 4   relevent_experience     18967 non-null  object \n",
      " 5   enrolled_university     18967 non-null  object \n",
      " 6   education_level         18967 non-null  object \n",
      " 7   major_discipline        18967 non-null  object \n",
      " 8   experience              18967 non-null  object \n",
      " 9   company_size            18967 non-null  object \n",
      " 10  company_type            18967 non-null  object \n",
      " 11  last_new_job            18967 non-null  object \n",
      " 12  training_hours          18967 non-null  int64  \n",
      " 13  target                  18967 non-null  float64\n",
      "dtypes: float64(2), int64(3), object(9)\n",
      "memory usage: 2.2+ MB\n"
     ]
    }
   ],
   "source": [
    "data.info()"
   ]
  },
  {
   "cell_type": "markdown",
   "metadata": {
    "papermill": {
     "duration": 0.031617,
     "end_time": "2021-04-11T12:54:12.770778",
     "exception": false,
     "start_time": "2021-04-11T12:54:12.739161",
     "status": "completed"
    },
    "tags": []
   },
   "source": [
    "<h2> Conversion of categorical variables into numeric variables"
   ]
  },
  {
   "cell_type": "code",
   "execution_count": 13,
   "metadata": {
    "execution": {
     "iopub.execute_input": "2021-04-11T12:54:12.861383Z",
     "iopub.status.busy": "2021-04-11T12:54:12.860427Z",
     "iopub.status.idle": "2021-04-11T12:54:12.963235Z",
     "shell.execute_reply": "2021-04-11T12:54:12.962507Z"
    },
    "papermill": {
     "duration": 0.150775,
     "end_time": "2021-04-11T12:54:12.963376",
     "exception": false,
     "start_time": "2021-04-11T12:54:12.812601",
     "status": "completed"
    },
    "tags": []
   },
   "outputs": [
    {
     "data": {
      "text/html": [
       "<div>\n",
       "<style scoped>\n",
       "    .dataframe tbody tr th:only-of-type {\n",
       "        vertical-align: middle;\n",
       "    }\n",
       "\n",
       "    .dataframe tbody tr th {\n",
       "        vertical-align: top;\n",
       "    }\n",
       "\n",
       "    .dataframe thead th {\n",
       "        text-align: right;\n",
       "    }\n",
       "</style>\n",
       "<table border=\"1\" class=\"dataframe\">\n",
       "  <thead>\n",
       "    <tr style=\"text-align: right;\">\n",
       "      <th></th>\n",
       "      <th>enrollee_id</th>\n",
       "      <th>city</th>\n",
       "      <th>city_development_index</th>\n",
       "      <th>education_level</th>\n",
       "      <th>experience</th>\n",
       "      <th>company_size</th>\n",
       "      <th>last_new_job</th>\n",
       "      <th>training_hours</th>\n",
       "      <th>target</th>\n",
       "      <th>gender_Female</th>\n",
       "      <th>...</th>\n",
       "      <th>major_discipline_Humanities</th>\n",
       "      <th>major_discipline_No Major</th>\n",
       "      <th>major_discipline_Other</th>\n",
       "      <th>major_discipline_STEM</th>\n",
       "      <th>company_type_Early Stage Startup</th>\n",
       "      <th>company_type_Funded Startup</th>\n",
       "      <th>company_type_NGO</th>\n",
       "      <th>company_type_Other</th>\n",
       "      <th>company_type_Public Sector</th>\n",
       "      <th>company_type_Pvt Ltd</th>\n",
       "    </tr>\n",
       "  </thead>\n",
       "  <tbody>\n",
       "    <tr>\n",
       "      <th>0</th>\n",
       "      <td>8949</td>\n",
       "      <td>103</td>\n",
       "      <td>0.920</td>\n",
       "      <td>3.0</td>\n",
       "      <td>22.0</td>\n",
       "      <td>3.0</td>\n",
       "      <td>1.0</td>\n",
       "      <td>36</td>\n",
       "      <td>1.0</td>\n",
       "      <td>0</td>\n",
       "      <td>...</td>\n",
       "      <td>0</td>\n",
       "      <td>0</td>\n",
       "      <td>0</td>\n",
       "      <td>1</td>\n",
       "      <td>0</td>\n",
       "      <td>0</td>\n",
       "      <td>0</td>\n",
       "      <td>0</td>\n",
       "      <td>0</td>\n",
       "      <td>1</td>\n",
       "    </tr>\n",
       "    <tr>\n",
       "      <th>1</th>\n",
       "      <td>29725</td>\n",
       "      <td>40</td>\n",
       "      <td>0.776</td>\n",
       "      <td>3.0</td>\n",
       "      <td>16.0</td>\n",
       "      <td>3.0</td>\n",
       "      <td>5.0</td>\n",
       "      <td>47</td>\n",
       "      <td>0.0</td>\n",
       "      <td>0</td>\n",
       "      <td>...</td>\n",
       "      <td>0</td>\n",
       "      <td>0</td>\n",
       "      <td>0</td>\n",
       "      <td>1</td>\n",
       "      <td>0</td>\n",
       "      <td>0</td>\n",
       "      <td>0</td>\n",
       "      <td>0</td>\n",
       "      <td>0</td>\n",
       "      <td>1</td>\n",
       "    </tr>\n",
       "    <tr>\n",
       "      <th>2</th>\n",
       "      <td>11561</td>\n",
       "      <td>21</td>\n",
       "      <td>0.624</td>\n",
       "      <td>3.0</td>\n",
       "      <td>6.0</td>\n",
       "      <td>3.0</td>\n",
       "      <td>6.0</td>\n",
       "      <td>83</td>\n",
       "      <td>0.0</td>\n",
       "      <td>0</td>\n",
       "      <td>...</td>\n",
       "      <td>0</td>\n",
       "      <td>0</td>\n",
       "      <td>0</td>\n",
       "      <td>1</td>\n",
       "      <td>0</td>\n",
       "      <td>0</td>\n",
       "      <td>0</td>\n",
       "      <td>0</td>\n",
       "      <td>0</td>\n",
       "      <td>1</td>\n",
       "    </tr>\n",
       "    <tr>\n",
       "      <th>3</th>\n",
       "      <td>33241</td>\n",
       "      <td>115</td>\n",
       "      <td>0.789</td>\n",
       "      <td>3.0</td>\n",
       "      <td>1.0</td>\n",
       "      <td>3.0</td>\n",
       "      <td>6.0</td>\n",
       "      <td>52</td>\n",
       "      <td>1.0</td>\n",
       "      <td>0</td>\n",
       "      <td>...</td>\n",
       "      <td>0</td>\n",
       "      <td>0</td>\n",
       "      <td>0</td>\n",
       "      <td>0</td>\n",
       "      <td>0</td>\n",
       "      <td>0</td>\n",
       "      <td>0</td>\n",
       "      <td>0</td>\n",
       "      <td>0</td>\n",
       "      <td>1</td>\n",
       "    </tr>\n",
       "    <tr>\n",
       "      <th>4</th>\n",
       "      <td>666</td>\n",
       "      <td>162</td>\n",
       "      <td>0.767</td>\n",
       "      <td>4.0</td>\n",
       "      <td>22.0</td>\n",
       "      <td>3.0</td>\n",
       "      <td>4.0</td>\n",
       "      <td>8</td>\n",
       "      <td>0.0</td>\n",
       "      <td>0</td>\n",
       "      <td>...</td>\n",
       "      <td>0</td>\n",
       "      <td>0</td>\n",
       "      <td>0</td>\n",
       "      <td>1</td>\n",
       "      <td>0</td>\n",
       "      <td>1</td>\n",
       "      <td>0</td>\n",
       "      <td>0</td>\n",
       "      <td>0</td>\n",
       "      <td>0</td>\n",
       "    </tr>\n",
       "  </tbody>\n",
       "</table>\n",
       "<p>5 rows × 28 columns</p>\n",
       "</div>"
      ],
      "text/plain": [
       "   enrollee_id  city  city_development_index  education_level  experience  \\\n",
       "0         8949   103                   0.920              3.0        22.0   \n",
       "1        29725    40                   0.776              3.0        16.0   \n",
       "2        11561    21                   0.624              3.0         6.0   \n",
       "3        33241   115                   0.789              3.0         1.0   \n",
       "4          666   162                   0.767              4.0        22.0   \n",
       "\n",
       "   company_size  last_new_job  training_hours  target  gender_Female  ...  \\\n",
       "0           3.0           1.0              36     1.0              0  ...   \n",
       "1           3.0           5.0              47     0.0              0  ...   \n",
       "2           3.0           6.0              83     0.0              0  ...   \n",
       "3           3.0           6.0              52     1.0              0  ...   \n",
       "4           3.0           4.0               8     0.0              0  ...   \n",
       "\n",
       "   major_discipline_Humanities  major_discipline_No Major  \\\n",
       "0                            0                          0   \n",
       "1                            0                          0   \n",
       "2                            0                          0   \n",
       "3                            0                          0   \n",
       "4                            0                          0   \n",
       "\n",
       "   major_discipline_Other  major_discipline_STEM  \\\n",
       "0                       0                      1   \n",
       "1                       0                      1   \n",
       "2                       0                      1   \n",
       "3                       0                      0   \n",
       "4                       0                      1   \n",
       "\n",
       "   company_type_Early Stage Startup  company_type_Funded Startup  \\\n",
       "0                                 0                            0   \n",
       "1                                 0                            0   \n",
       "2                                 0                            0   \n",
       "3                                 0                            0   \n",
       "4                                 0                            1   \n",
       "\n",
       "   company_type_NGO  company_type_Other  company_type_Public Sector  \\\n",
       "0                 0                   0                           0   \n",
       "1                 0                   0                           0   \n",
       "2                 0                   0                           0   \n",
       "3                 0                   0                           0   \n",
       "4                 0                   0                           0   \n",
       "\n",
       "   company_type_Pvt Ltd  \n",
       "0                     1  \n",
       "1                     1  \n",
       "2                     1  \n",
       "3                     1  \n",
       "4                     0  \n",
       "\n",
       "[5 rows x 28 columns]"
      ]
     },
     "execution_count": 13,
     "metadata": {},
     "output_type": "execute_result"
    }
   ],
   "source": [
    "pd.options.mode.chained_assignment = None\n",
    "ordinal_atributes = ['education_level', 'experience', 'company_size', 'last_new_job']\n",
    "\n",
    "cardinal_atributes = ['gender', 'relevent_experience', 'enrolled_university', 'major_discipline', 'company_type']\n",
    "\n",
    "ordinal_pipeline = Pipeline([\n",
    "    ('OrdinalEncoder',OrdinalEncoder(categories=[\n",
    "                                    ['Unknown', 'Primary School',  'High School', 'Graduate', 'Masters', 'Phd'],\n",
    "                                    'Unknown,<1,1,2,3,4,5,6,7,8,9,10,11,12,13,14,15,16,17,18,19,20,>20'.split(','),\n",
    "                                    ['Unknown','<10', '10/49', '50-99', '100-500', '500-999' ,'1000-4999', '5000-9999', '10000+'],\n",
    "                                    ['Unknown','1', '2', '3', '4', '>4', 'never']\n",
    "                                ]))\n",
    "])\n",
    "\n",
    "ordinal_pipeline.fit(data[ordinal_atributes])\n",
    "data[ordinal_atributes] = ordinal_pipeline.transform(data[ordinal_atributes])\n",
    "data = pd.get_dummies(data, columns=cardinal_atributes)\n",
    "data.head()"
   ]
  },
  {
   "cell_type": "markdown",
   "metadata": {
    "papermill": {
     "duration": 0.032873,
     "end_time": "2021-04-11T12:54:13.029042",
     "exception": false,
     "start_time": "2021-04-11T12:54:12.996169",
     "status": "completed"
    },
    "tags": []
   },
   "source": [
    "Let's check how many columns do we have at this moment."
   ]
  },
  {
   "cell_type": "code",
   "execution_count": 14,
   "metadata": {
    "execution": {
     "iopub.execute_input": "2021-04-11T12:54:13.101425Z",
     "iopub.status.busy": "2021-04-11T12:54:13.100763Z",
     "iopub.status.idle": "2021-04-11T12:54:13.115699Z",
     "shell.execute_reply": "2021-04-11T12:54:13.115082Z"
    },
    "papermill": {
     "duration": 0.052772,
     "end_time": "2021-04-11T12:54:13.115833",
     "exception": false,
     "start_time": "2021-04-11T12:54:13.063061",
     "status": "completed"
    },
    "tags": []
   },
   "outputs": [
    {
     "name": "stdout",
     "output_type": "stream",
     "text": [
      "<class 'pandas.core.frame.DataFrame'>\n",
      "Int64Index: 18967 entries, 0 to 19157\n",
      "Data columns (total 28 columns):\n",
      " #   Column                                       Non-Null Count  Dtype  \n",
      "---  ------                                       --------------  -----  \n",
      " 0   enrollee_id                                  18967 non-null  int64  \n",
      " 1   city                                         18967 non-null  int64  \n",
      " 2   city_development_index                       18967 non-null  float64\n",
      " 3   education_level                              18967 non-null  float64\n",
      " 4   experience                                   18967 non-null  float64\n",
      " 5   company_size                                 18967 non-null  float64\n",
      " 6   last_new_job                                 18967 non-null  float64\n",
      " 7   training_hours                               18967 non-null  int64  \n",
      " 8   target                                       18967 non-null  float64\n",
      " 9   gender_Female                                18967 non-null  uint8  \n",
      " 10  gender_Male                                  18967 non-null  uint8  \n",
      " 11  relevent_experience_Has relevent experience  18967 non-null  uint8  \n",
      " 12  relevent_experience_No relevent experience   18967 non-null  uint8  \n",
      " 13  enrolled_university_Full time course         18967 non-null  uint8  \n",
      " 14  enrolled_university_Part time course         18967 non-null  uint8  \n",
      " 15  enrolled_university_no_enrollment            18967 non-null  uint8  \n",
      " 16  major_discipline_Arts                        18967 non-null  uint8  \n",
      " 17  major_discipline_Business Degree             18967 non-null  uint8  \n",
      " 18  major_discipline_Humanities                  18967 non-null  uint8  \n",
      " 19  major_discipline_No Major                    18967 non-null  uint8  \n",
      " 20  major_discipline_Other                       18967 non-null  uint8  \n",
      " 21  major_discipline_STEM                        18967 non-null  uint8  \n",
      " 22  company_type_Early Stage Startup             18967 non-null  uint8  \n",
      " 23  company_type_Funded Startup                  18967 non-null  uint8  \n",
      " 24  company_type_NGO                             18967 non-null  uint8  \n",
      " 25  company_type_Other                           18967 non-null  uint8  \n",
      " 26  company_type_Public Sector                   18967 non-null  uint8  \n",
      " 27  company_type_Pvt Ltd                         18967 non-null  uint8  \n",
      "dtypes: float64(6), int64(3), uint8(19)\n",
      "memory usage: 1.8 MB\n"
     ]
    }
   ],
   "source": [
    "data.info()"
   ]
  },
  {
   "cell_type": "markdown",
   "metadata": {
    "papermill": {
     "duration": 0.033508,
     "end_time": "2021-04-11T12:54:13.183116",
     "exception": false,
     "start_time": "2021-04-11T12:54:13.149608",
     "status": "completed"
    },
    "tags": []
   },
   "source": [
    "<h2> Balancing target variable"
   ]
  },
  {
   "cell_type": "markdown",
   "metadata": {
    "papermill": {
     "duration": 0.03246,
     "end_time": "2021-04-11T12:54:13.248123",
     "exception": false,
     "start_time": "2021-04-11T12:54:13.215663",
     "status": "completed"
    },
    "tags": []
   },
   "source": [
    "To balance our target variable, we will use RandomOverSampler from imblearn library."
   ]
  },
  {
   "cell_type": "code",
   "execution_count": 15,
   "metadata": {
    "execution": {
     "iopub.execute_input": "2021-04-11T12:54:13.321258Z",
     "iopub.status.busy": "2021-04-11T12:54:13.320464Z",
     "iopub.status.idle": "2021-04-11T12:54:13.371480Z",
     "shell.execute_reply": "2021-04-11T12:54:13.370849Z"
    },
    "papermill": {
     "duration": 0.09102,
     "end_time": "2021-04-11T12:54:13.371624",
     "exception": false,
     "start_time": "2021-04-11T12:54:13.280604",
     "status": "completed"
    },
    "tags": []
   },
   "outputs": [
    {
     "name": "stdout",
     "output_type": "stream",
     "text": [
      "Imbalanced target class: Counter({0.0: 14240, 1.0: 4727})\n",
      "\n",
      "Balanced target class: Counter({1.0: 14240, 0.0: 14240})\n",
      "\n",
      "9513 new random picked points\n"
     ]
    }
   ],
   "source": [
    "columns = data.columns.tolist()\n",
    "columns = [c for c in columns if c not in ['target']]\n",
    "y = data['target']\n",
    "X = data[columns]\n",
    "\n",
    "ros = RandomOverSampler(sampling_strategy='minority')\n",
    "X_ros, y_ros = ros.fit_resample(X, y)\n",
    "print(f\"Imbalanced target class: {Counter(y)}\\n\\nBalanced target class: {Counter(y_ros)}\\n\")\n",
    "print(X_ros.shape[0] - data.shape[0], 'new random picked points')"
   ]
  },
  {
   "cell_type": "markdown",
   "metadata": {
    "papermill": {
     "duration": 0.033528,
     "end_time": "2021-04-11T12:54:13.438337",
     "exception": false,
     "start_time": "2021-04-11T12:54:13.404809",
     "status": "completed"
    },
    "tags": []
   },
   "source": [
    "We can see our result in barchart below 📊 ->"
   ]
  },
  {
   "cell_type": "code",
   "execution_count": 16,
   "metadata": {
    "execution": {
     "iopub.execute_input": "2021-04-11T12:54:13.525665Z",
     "iopub.status.busy": "2021-04-11T12:54:13.524693Z",
     "iopub.status.idle": "2021-04-11T12:54:13.648614Z",
     "shell.execute_reply": "2021-04-11T12:54:13.649127Z"
    },
    "papermill": {
     "duration": 0.177604,
     "end_time": "2021-04-11T12:54:13.649305",
     "exception": false,
     "start_time": "2021-04-11T12:54:13.471701",
     "status": "completed"
    },
    "tags": []
   },
   "outputs": [
    {
     "data": {
      "image/png": "[encoded data removed]",
      "text/plain": [
       "<Figure size 864x432 with 1 Axes>"
      ]
     },
     "metadata": {
      "needs_background": "light"
     },
     "output_type": "display_data"
    }
   ],
   "source": [
    "plt.figure(figsize=(12,6))\n",
    "plt.title(\"Balanced target variable\", fontsize=15, fontweight='bold', fontname='Helvetica', ha='center')\n",
    "ax = sns.countplot(x=y_ros, data=data)"
   ]
  },
  {
   "cell_type": "markdown",
   "metadata": {
    "papermill": {
     "duration": 0.034853,
     "end_time": "2021-04-11T12:54:13.719383",
     "exception": false,
     "start_time": "2021-04-11T12:54:13.684530",
     "status": "completed"
    },
    "tags": []
   },
   "source": [
    "Perfect! Our dataset is now balanced. 😎"
   ]
  },
  {
   "cell_type": "code",
   "execution_count": 17,
   "metadata": {
    "execution": {
     "iopub.execute_input": "2021-04-11T12:54:13.795512Z",
     "iopub.status.busy": "2021-04-11T12:54:13.794605Z",
     "iopub.status.idle": "2021-04-11T12:54:13.808936Z",
     "shell.execute_reply": "2021-04-11T12:54:13.809479Z"
    },
    "papermill": {
     "duration": 0.055421,
     "end_time": "2021-04-11T12:54:13.809661",
     "exception": false,
     "start_time": "2021-04-11T12:54:13.754240",
     "status": "completed"
    },
    "tags": []
   },
   "outputs": [
    {
     "name": "stdout",
     "output_type": "stream",
     "text": [
      "<class 'pandas.core.frame.DataFrame'>\n",
      "Int64Index: 18967 entries, 0 to 19157\n",
      "Data columns (total 28 columns):\n",
      " #   Column                                       Non-Null Count  Dtype  \n",
      "---  ------                                       --------------  -----  \n",
      " 0   enrollee_id                                  18967 non-null  int64  \n",
      " 1   city                                         18967 non-null  int64  \n",
      " 2   city_development_index                       18967 non-null  float64\n",
      " 3   education_level                              18967 non-null  float64\n",
      " 4   experience                                   18967 non-null  float64\n",
      " 5   company_size                                 18967 non-null  float64\n",
      " 6   last_new_job                                 18967 non-null  float64\n",
      " 7   training_hours                               18967 non-null  int64  \n",
      " 8   target                                       18967 non-null  float64\n",
      " 9   gender_Female                                18967 non-null  uint8  \n",
      " 10  gender_Male                                  18967 non-null  uint8  \n",
      " 11  relevent_experience_Has relevent experience  18967 non-null  uint8  \n",
      " 12  relevent_experience_No relevent experience   18967 non-null  uint8  \n",
      " 13  enrolled_university_Full time course         18967 non-null  uint8  \n",
      " 14  enrolled_university_Part time course         18967 non-null  uint8  \n",
      " 15  enrolled_university_no_enrollment            18967 non-null  uint8  \n",
      " 16  major_discipline_Arts                        18967 non-null  uint8  \n",
      " 17  major_discipline_Business Degree             18967 non-null  uint8  \n",
      " 18  major_discipline_Humanities                  18967 non-null  uint8  \n",
      " 19  major_discipline_No Major                    18967 non-null  uint8  \n",
      " 20  major_discipline_Other                       18967 non-null  uint8  \n",
      " 21  major_discipline_STEM                        18967 non-null  uint8  \n",
      " 22  company_type_Early Stage Startup             18967 non-null  uint8  \n",
      " 23  company_type_Funded Startup                  18967 non-null  uint8  \n",
      " 24  company_type_NGO                             18967 non-null  uint8  \n",
      " 25  company_type_Other                           18967 non-null  uint8  \n",
      " 26  company_type_Public Sector                   18967 non-null  uint8  \n",
      " 27  company_type_Pvt Ltd                         18967 non-null  uint8  \n",
      "dtypes: float64(6), int64(3), uint8(19)\n",
      "memory usage: 1.8 MB\n"
     ]
    }
   ],
   "source": [
    "data.info()"
   ]
  },
  {
   "cell_type": "code",
   "execution_count": 18,
   "metadata": {
    "execution": {
     "iopub.execute_input": "2021-04-11T12:54:13.886148Z",
     "iopub.status.busy": "2021-04-11T12:54:13.885202Z",
     "iopub.status.idle": "2021-04-11T12:54:13.889830Z",
     "shell.execute_reply": "2021-04-11T12:54:13.889196Z"
    },
    "papermill": {
     "duration": 0.044698,
     "end_time": "2021-04-11T12:54:13.889977",
     "exception": false,
     "start_time": "2021-04-11T12:54:13.845279",
     "status": "completed"
    },
    "tags": []
   },
   "outputs": [
    {
     "data": {
      "text/plain": [
       "(18967, 28)"
      ]
     },
     "execution_count": 18,
     "metadata": {},
     "output_type": "execute_result"
    }
   ],
   "source": [
    "data.shape"
   ]
  },
  {
   "cell_type": "markdown",
   "metadata": {
    "papermill": {
     "duration": 0.036012,
     "end_time": "2021-04-11T12:54:13.962362",
     "exception": false,
     "start_time": "2021-04-11T12:54:13.926350",
     "status": "completed"
    },
    "tags": []
   },
   "source": [
    "Our dataset is all set and ready to be used in various ML models! 🔎"
   ]
  },
  {
   "cell_type": "markdown",
   "metadata": {
    "papermill": {
     "duration": 0.035008,
     "end_time": "2021-04-11T12:54:14.032459",
     "exception": false,
     "start_time": "2021-04-11T12:54:13.997451",
     "status": "completed"
    },
    "tags": []
   },
   "source": [
    "<h1> Models"
   ]
  },
  {
   "cell_type": "code",
   "execution_count": 19,
   "metadata": {
    "execution": {
     "iopub.execute_input": "2021-04-11T12:54:14.110186Z",
     "iopub.status.busy": "2021-04-11T12:54:14.109590Z",
     "iopub.status.idle": "2021-04-11T12:54:14.126552Z",
     "shell.execute_reply": "2021-04-11T12:54:14.126097Z"
    },
    "papermill": {
     "duration": 0.058106,
     "end_time": "2021-04-11T12:54:14.126714",
     "exception": false,
     "start_time": "2021-04-11T12:54:14.068608",
     "status": "completed"
    },
    "tags": []
   },
   "outputs": [
    {
     "data": {
      "text/plain": [
       "((13276, 27), (5691, 27), (13276,), (5691,))"
      ]
     },
     "execution_count": 19,
     "metadata": {},
     "output_type": "execute_result"
    }
   ],
   "source": [
    "X_ros,X_test,y_ros,y_test = train_test_split(X, y,test_size=0.3,stratify=y,random_state=42)\n",
    "X_ros.shape,X_test.shape,y_ros.shape,y_test.shape"
   ]
  },
  {
   "cell_type": "markdown",
   "metadata": {
    "papermill": {
     "duration": 0.038907,
     "end_time": "2021-04-11T12:54:14.205088",
     "exception": false,
     "start_time": "2021-04-11T12:54:14.166181",
     "status": "completed"
    },
    "tags": []
   },
   "source": [
    "**KNN**"
   ]
  },
  {
   "cell_type": "code",
   "execution_count": 20,
   "metadata": {
    "execution": {
     "iopub.execute_input": "2021-04-11T12:54:14.288339Z",
     "iopub.status.busy": "2021-04-11T12:54:14.287773Z",
     "iopub.status.idle": "2021-04-11T12:54:14.356014Z",
     "shell.execute_reply": "2021-04-11T12:54:14.355537Z"
    },
    "papermill": {
     "duration": 0.112274,
     "end_time": "2021-04-11T12:54:14.356153",
     "exception": false,
     "start_time": "2021-04-11T12:54:14.243879",
     "status": "completed"
    },
    "tags": []
   },
   "outputs": [
    {
     "ename": "NameError",
     "evalue": "name 'KNeighborsClassifier' is not defined",
     "output_type": "error",
     "traceback": [
      "\u001b[0;31m---------------------------------------------------------------------------\u001b[0m",
      "\u001b[0;31mNameError\u001b[0m                                 Traceback (most recent call last)",
      "\u001b[0;32m<ipython-input-20-d3ce216fa84c>\u001b[0m in \u001b[0;36m<module>\u001b[0;34m\u001b[0m\n\u001b[0;32m----> 1\u001b[0;31m \u001b[0mknnc\u001b[0m \u001b[0;34m=\u001b[0m \u001b[0mKNeighborsClassifier\u001b[0m\u001b[0;34m(\u001b[0m\u001b[0mn_neighbors\u001b[0m\u001b[0;34m=\u001b[0m\u001b[0;36m4\u001b[0m\u001b[0;34m)\u001b[0m\u001b[0;34m\u001b[0m\u001b[0;34m\u001b[0m\u001b[0m\n\u001b[0m\u001b[1;32m      2\u001b[0m \u001b[0mknnc\u001b[0m\u001b[0;34m.\u001b[0m\u001b[0mfit\u001b[0m\u001b[0;34m(\u001b[0m\u001b[0mX_ros\u001b[0m\u001b[0;34m,\u001b[0m \u001b[0my_ros\u001b[0m\u001b[0;34m)\u001b[0m\u001b[0;34m\u001b[0m\u001b[0;34m\u001b[0m\u001b[0m\n\u001b[1;32m      3\u001b[0m \u001b[0my_pred_knnc\u001b[0m \u001b[0;34m=\u001b[0m \u001b[0mknnc\u001b[0m\u001b[0;34m.\u001b[0m\u001b[0mpredict\u001b[0m\u001b[0;34m(\u001b[0m\u001b[0mX_test\u001b[0m\u001b[0;34m)\u001b[0m\u001b[0;34m\u001b[0m\u001b[0;34m\u001b[0m\u001b[0m\n\u001b[1;32m      4\u001b[0m \u001b[0;34m\u001b[0m\u001b[0m\n\u001b[1;32m      5\u001b[0m \u001b[0mprint\u001b[0m\u001b[0;34m(\u001b[0m\u001b[0mclassification_report\u001b[0m\u001b[0;34m(\u001b[0m\u001b[0my_test\u001b[0m\u001b[0;34m,\u001b[0m \u001b[0my_pred_knnc\u001b[0m\u001b[0;34m)\u001b[0m\u001b[0;34m)\u001b[0m\u001b[0;34m\u001b[0m\u001b[0;34m\u001b[0m\u001b[0m\n",
      "\u001b[0;31mNameError\u001b[0m: name 'KNeighborsClassifier' is not defined"
     ]
    }
   ],
   "source": [
    "knnc = KNeighborsClassifier(n_neighbors=4)\n",
    "knnc.fit(X_ros, y_ros)\n",
    "y_pred_knnc = knnc.predict(X_test)\n",
    "\n",
    "print(classification_report(y_test, y_pred_knnc))\n",
    "print('The accuracy score with using the KNN is :',accuracy_score(y_test,y_pred_knnc))"
   ]
  },
  {
   "cell_type": "code",
   "execution_count": 21,
   "metadata": {
    "execution": {
     "iopub.execute_input": "2021-04-11T12:54:14.442804Z",
     "iopub.status.busy": "2021-04-11T12:54:14.441926Z",
     "iopub.status.idle": "2021-04-11T12:54:14.445795Z",
     "shell.execute_reply": "2021-04-11T12:54:14.446262Z"
    },
    "papermill": {
     "duration": 0.054265,
     "end_time": "2021-04-11T12:54:14.446435",
     "exception": false,
     "start_time": "2021-04-11T12:54:14.392170",
     "status": "completed"
    },
    "tags": []
   },
   "outputs": [
    {
     "ename": "NameError",
     "evalue": "name 'KNeighborsClassifier' is not defined",
     "output_type": "error",
     "traceback": [
      "\u001b[0;31m---------------------------------------------------------------------------\u001b[0m",
      "\u001b[0;31mNameError\u001b[0m                                 Traceback (most recent call last)",
      "\u001b[0;32m<ipython-input-21-1f18311d16d9>\u001b[0m in \u001b[0;36m<module>\u001b[0;34m\u001b[0m\n\u001b[1;32m      1\u001b[0m \u001b[0mparams\u001b[0m \u001b[0;34m=\u001b[0m \u001b[0;34m{\u001b[0m\u001b[0;34m'n_neighbors'\u001b[0m\u001b[0;34m:\u001b[0m \u001b[0mnp\u001b[0m\u001b[0;34m.\u001b[0m\u001b[0marange\u001b[0m\u001b[0;34m(\u001b[0m\u001b[0;36m1\u001b[0m\u001b[0;34m,\u001b[0m \u001b[0;36m31\u001b[0m\u001b[0;34m,\u001b[0m \u001b[0;36m2\u001b[0m\u001b[0;34m)\u001b[0m\u001b[0;34m,\u001b[0m \u001b[0;34m\"metric\"\u001b[0m\u001b[0;34m:\u001b[0m \u001b[0;34m[\u001b[0m\u001b[0;34m\"euclidean\"\u001b[0m\u001b[0;34m]\u001b[0m\u001b[0;34m}\u001b[0m\u001b[0;34m\u001b[0m\u001b[0;34m\u001b[0m\u001b[0m\n\u001b[0;32m----> 2\u001b[0;31m \u001b[0mgrid_search_cv\u001b[0m \u001b[0;34m=\u001b[0m \u001b[0mGridSearchCV\u001b[0m\u001b[0;34m(\u001b[0m\u001b[0mKNeighborsClassifier\u001b[0m\u001b[0;34m(\u001b[0m\u001b[0;34m)\u001b[0m\u001b[0;34m,\u001b[0m \u001b[0mparams\u001b[0m\u001b[0;34m,\u001b[0m \u001b[0mverbose\u001b[0m\u001b[0;34m=\u001b[0m\u001b[0;36m1\u001b[0m\u001b[0;34m,\u001b[0m \u001b[0mcv\u001b[0m\u001b[0;34m=\u001b[0m\u001b[0;36m3\u001b[0m\u001b[0;34m)\u001b[0m\u001b[0;34m\u001b[0m\u001b[0;34m\u001b[0m\u001b[0m\n\u001b[0m\u001b[1;32m      3\u001b[0m \u001b[0mgrid_search_cv\u001b[0m\u001b[0;34m.\u001b[0m\u001b[0mfit\u001b[0m\u001b[0;34m(\u001b[0m\u001b[0mX_ros\u001b[0m\u001b[0;34m,\u001b[0m \u001b[0my_ros\u001b[0m\u001b[0;34m)\u001b[0m\u001b[0;34m\u001b[0m\u001b[0;34m\u001b[0m\u001b[0m\n\u001b[1;32m      4\u001b[0m \u001b[0;31m# returns the best model\u001b[0m\u001b[0;34m\u001b[0m\u001b[0;34m\u001b[0m\u001b[0;34m\u001b[0m\u001b[0m\n\u001b[1;32m      5\u001b[0m \u001b[0mgrid_search_cv\u001b[0m\u001b[0;34m.\u001b[0m\u001b[0mbest_estimator_\u001b[0m\u001b[0;34m\u001b[0m\u001b[0;34m\u001b[0m\u001b[0m\n",
      "\u001b[0;31mNameError\u001b[0m: name 'KNeighborsClassifier' is not defined"
     ]
    }
   ],
   "source": [
    "params = {'n_neighbors': np.arange(1, 31, 2), \"metric\": [\"euclidean\"]}\n",
    "grid_search_cv = GridSearchCV(KNeighborsClassifier(), params, verbose=1, cv=3)\n",
    "grid_search_cv.fit(X_ros, y_ros)\n",
    "# returns the best model\n",
    "grid_search_cv.best_estimator_\n",
    "# the best parameters\n",
    "grid_search_cv.best_params_\n",
    "# results obtained by the best model\n",
    "knn_accuracy = grid_search_cv.best_score_ \n",
    "print('The accuracy score with using the tuned KNN is: ', knn_accuracy)"
   ]
  },
  {
   "cell_type": "code",
   "execution_count": 22,
   "metadata": {
    "execution": {
     "iopub.execute_input": "2021-04-11T12:54:14.521302Z",
     "iopub.status.busy": "2021-04-11T12:54:14.520445Z",
     "iopub.status.idle": "2021-04-11T12:54:14.532025Z",
     "shell.execute_reply": "2021-04-11T12:54:14.532474Z"
    },
    "papermill": {
     "duration": 0.050451,
     "end_time": "2021-04-11T12:54:14.532648",
     "exception": false,
     "start_time": "2021-04-11T12:54:14.482197",
     "status": "completed"
    },
    "tags": []
   },
   "outputs": [
    {
     "ename": "NameError",
     "evalue": "name 'grid_search_cv' is not defined",
     "output_type": "error",
     "traceback": [
      "\u001b[0;31m---------------------------------------------------------------------------\u001b[0m",
      "\u001b[0;31mNameError\u001b[0m                                 Traceback (most recent call last)",
      "\u001b[0;32m<ipython-input-22-2b5f03641fb5>\u001b[0m in \u001b[0;36m<module>\u001b[0;34m\u001b[0m\n\u001b[0;32m----> 1\u001b[0;31m \u001b[0mplot_roc_curve\u001b[0m\u001b[0;34m(\u001b[0m\u001b[0mgrid_search_cv\u001b[0m\u001b[0;34m,\u001b[0m \u001b[0mX_test\u001b[0m\u001b[0;34m,\u001b[0m \u001b[0my_test\u001b[0m\u001b[0;34m)\u001b[0m\u001b[0;34m\u001b[0m\u001b[0;34m\u001b[0m\u001b[0m\n\u001b[0m",
      "\u001b[0;31mNameError\u001b[0m: name 'grid_search_cv' is not defined"
     ]
    }
   ],
   "source": [
    "plot_roc_curve(grid_search_cv, X_test, y_test)"
   ]
  },
  {
   "cell_type": "markdown",
   "metadata": {
    "papermill": {
     "duration": 0.035854,
     "end_time": "2021-04-11T12:54:14.604314",
     "exception": false,
     "start_time": "2021-04-11T12:54:14.568460",
     "status": "completed"
    },
    "tags": []
   },
   "source": [
    "**DECISION TREE**"
   ]
  },
  {
   "cell_type": "code",
   "execution_count": 23,
   "metadata": {
    "execution": {
     "iopub.execute_input": "2021-04-11T12:54:14.686178Z",
     "iopub.status.busy": "2021-04-11T12:54:14.685554Z",
     "iopub.status.idle": "2021-04-11T12:54:14.731124Z",
     "shell.execute_reply": "2021-04-11T12:54:14.730510Z"
    },
    "papermill": {
     "duration": 0.08988,
     "end_time": "2021-04-11T12:54:14.731261",
     "exception": false,
     "start_time": "2021-04-11T12:54:14.641381",
     "status": "completed"
    },
    "tags": []
   },
   "outputs": [
    {
     "name": "stdout",
     "output_type": "stream",
     "text": [
      "              precision    recall  f1-score   support\n",
      "\n",
      "         0.0       0.83      0.90      0.86      4273\n",
      "         1.0       0.59      0.44      0.50      1418\n",
      "\n",
      "    accuracy                           0.78      5691\n",
      "   macro avg       0.71      0.67      0.68      5691\n",
      "weighted avg       0.77      0.78      0.77      5691\n",
      "\n",
      "The accuracy score with using the decision tree classifier is : 0.7829906870497276\n"
     ]
    }
   ],
   "source": [
    "dtc = DecisionTreeClassifier(max_depth = 3, random_state=0)\n",
    "\n",
    "dtc.fit(X_ros, y_ros)\n",
    "y_pred_dtc = dtc.predict(X_test)\n",
    "#metrics.accuracy_score(y_test, y_pred_dtc)\n",
    "\n",
    "print(classification_report(y_test, y_pred_dtc))\n",
    "print('The accuracy score with using the decision tree classifier is :',accuracy_score(y_test,y_pred_dtc))"
   ]
  },
  {
   "cell_type": "markdown",
   "metadata": {
    "papermill": {
     "duration": 0.037056,
     "end_time": "2021-04-11T12:54:14.804935",
     "exception": false,
     "start_time": "2021-04-11T12:54:14.767879",
     "status": "completed"
    },
    "tags": []
   },
   "source": [
    "**Hyperparameter tuning**"
   ]
  },
  {
   "cell_type": "code",
   "execution_count": 24,
   "metadata": {
    "execution": {
     "iopub.execute_input": "2021-04-11T12:54:14.885256Z",
     "iopub.status.busy": "2021-04-11T12:54:14.884513Z",
     "iopub.status.idle": "2021-04-11T12:54:43.653516Z",
     "shell.execute_reply": "2021-04-11T12:54:43.653026Z"
    },
    "papermill": {
     "duration": 28.811921,
     "end_time": "2021-04-11T12:54:43.653685",
     "exception": false,
     "start_time": "2021-04-11T12:54:14.841764",
     "status": "completed"
    },
    "tags": []
   },
   "outputs": [
    {
     "name": "stdout",
     "output_type": "stream",
     "text": [
      "Fitting 3 folds for each of 294 candidates, totalling 882 fits\n",
      "The accuracy score with using the tuned decision tree classifier is:  0.7823893054481181\n"
     ]
    }
   ],
   "source": [
    "params = {'max_leaf_nodes': list(range(2, 100)), 'min_samples_split': [2, 3, 4]}\n",
    "grid_search_cv = GridSearchCV(DecisionTreeClassifier(random_state=42), params, verbose=1, cv=3)\n",
    "grid_search_cv.fit(X_ros, y_ros)\n",
    "# returns the best model\n",
    "grid_search_cv.best_estimator_\n",
    "# the best parameters\n",
    "grid_search_cv.best_params_\n",
    "# results obtained by the best model\n",
    "dt_accuracy = grid_search_cv.best_score_ \n",
    "print('The accuracy score with using the tuned decision tree classifier is: ', dt_accuracy)"
   ]
  },
  {
   "cell_type": "code",
   "execution_count": 25,
   "metadata": {
    "execution": {
     "iopub.execute_input": "2021-04-11T12:54:43.734816Z",
     "iopub.status.busy": "2021-04-11T12:54:43.733911Z",
     "iopub.status.idle": "2021-04-11T12:54:43.879591Z",
     "shell.execute_reply": "2021-04-11T12:54:43.879091Z"
    },
    "papermill": {
     "duration": 0.188714,
     "end_time": "2021-04-11T12:54:43.879754",
     "exception": false,
     "start_time": "2021-04-11T12:54:43.691040",
     "status": "completed"
    },
    "tags": []
   },
   "outputs": [
    {
     "data": {
      "text/plain": [
       "<sklearn.metrics._plot.roc_curve.RocCurveDisplay at 0x7f8c5dd2b310>"
      ]
     },
     "execution_count": 25,
     "metadata": {},
     "output_type": "execute_result"
    },
    {
     "data": {
      "image/png": "[encoded data removed]",
      "text/plain": [
       "<Figure size 432x288 with 1 Axes>"
      ]
     },
     "metadata": {
      "needs_background": "light"
     },
     "output_type": "display_data"
    }
   ],
   "source": [
    "plot_roc_curve(grid_search_cv, X_test, y_test)"
   ]
  },
  {
   "cell_type": "markdown",
   "metadata": {
    "papermill": {
     "duration": 0.037731,
     "end_time": "2021-04-11T12:54:43.955663",
     "exception": false,
     "start_time": "2021-04-11T12:54:43.917932",
     "status": "completed"
    },
    "tags": []
   },
   "source": [
    "**RANDOM FOREST**"
   ]
  },
  {
   "cell_type": "code",
   "execution_count": 26,
   "metadata": {
    "execution": {
     "iopub.execute_input": "2021-04-11T12:54:44.040759Z",
     "iopub.status.busy": "2021-04-11T12:54:44.039812Z",
     "iopub.status.idle": "2021-04-11T12:54:44.993424Z",
     "shell.execute_reply": "2021-04-11T12:54:44.993992Z"
    },
    "papermill": {
     "duration": 1.000308,
     "end_time": "2021-04-11T12:54:44.994162",
     "exception": false,
     "start_time": "2021-04-11T12:54:43.993854",
     "status": "completed"
    },
    "tags": []
   },
   "outputs": [
    {
     "name": "stdout",
     "output_type": "stream",
     "text": [
      "              precision    recall  f1-score   support\n",
      "\n",
      "         0.0       0.81      0.91      0.86      4273\n",
      "         1.0       0.56      0.35      0.43      1418\n",
      "\n",
      "    accuracy                           0.77      5691\n",
      "   macro avg       0.68      0.63      0.64      5691\n",
      "weighted avg       0.75      0.77      0.75      5691\n",
      "\n",
      "The accuracy score with using the Random Forest is : 0.7698119838341241\n"
     ]
    }
   ],
   "source": [
    "rfc = RandomForestClassifier(n_estimators = 50, class_weight = {0:1, 1:4})\n",
    "rfc.fit(X_ros, y_ros)\n",
    "y_pred_rfc = rfc.predict(X_test)\n",
    "\n",
    "print(classification_report(y_test, y_pred_rfc))\n",
    "print('The accuracy score with using the Random Forest is :',accuracy_score(y_test,y_pred_rfc))"
   ]
  },
  {
   "cell_type": "code",
   "execution_count": 27,
   "metadata": {
    "execution": {
     "iopub.execute_input": "2021-04-11T12:54:45.080365Z",
     "iopub.status.busy": "2021-04-11T12:54:45.079373Z",
     "iopub.status.idle": "2021-04-11T12:56:02.036334Z",
     "shell.execute_reply": "2021-04-11T12:56:02.036849Z"
    },
    "papermill": {
     "duration": 77.003411,
     "end_time": "2021-04-11T12:56:02.037028",
     "exception": false,
     "start_time": "2021-04-11T12:54:45.033617",
     "status": "completed"
    },
    "tags": []
   },
   "outputs": [
    {
     "name": "stdout",
     "output_type": "stream",
     "text": [
      "Fitting 3 folds for each of 54 candidates, totalling 162 fits\n",
      "The accuracy score with using the tuned Random Forest is : 0.7695089366634243\n"
     ]
    }
   ],
   "source": [
    "params = {'max_leaf_nodes': list(range(2, 20)), 'min_samples_split': [2, 3, 4]}\n",
    "grid_search_cv = GridSearchCV(RandomForestClassifier(random_state=42), params, verbose=1, cv=3)\n",
    "grid_search_cv.fit(X_ros, y_ros)\n",
    "\n",
    "grid_search_cv.best_estimator_\n",
    "grid_search_cv.best_params_\n",
    "rf_accuracy = grid_search_cv.best_score_ \n",
    "print('The accuracy score with using the tuned Random Forest is :',rf_accuracy)"
   ]
  },
  {
   "cell_type": "code",
   "execution_count": 28,
   "metadata": {
    "execution": {
     "iopub.execute_input": "2021-04-11T12:56:02.126243Z",
     "iopub.status.busy": "2021-04-11T12:56:02.125301Z",
     "iopub.status.idle": "2021-04-11T12:56:02.321241Z",
     "shell.execute_reply": "2021-04-11T12:56:02.320676Z"
    },
    "papermill": {
     "duration": 0.244065,
     "end_time": "2021-04-11T12:56:02.321379",
     "exception": false,
     "start_time": "2021-04-11T12:56:02.077314",
     "status": "completed"
    },
    "tags": []
   },
   "outputs": [
    {
     "data": {
      "text/plain": [
       "<sklearn.metrics._plot.roc_curve.RocCurveDisplay at 0x7f8c5dcab290>"
      ]
     },
     "execution_count": 28,
     "metadata": {},
     "output_type": "execute_result"
    },
    {
     "data": {
      "image/png": "[encoded data removed]",
      "text/plain": [
       "<Figure size 432x288 with 1 Axes>"
      ]
     },
     "metadata": {
      "needs_background": "light"
     },
     "output_type": "display_data"
    }
   ],
   "source": [
    "plot_roc_curve(grid_search_cv, X_test, y_test)"
   ]
  },
  {
   "cell_type": "markdown",
   "metadata": {
    "papermill": {
     "duration": 0.042149,
     "end_time": "2021-04-11T12:56:02.405713",
     "exception": false,
     "start_time": "2021-04-11T12:56:02.363564",
     "status": "completed"
    },
    "tags": []
   },
   "source": [
    "**XGB classifier**"
   ]
  },
  {
   "cell_type": "code",
   "execution_count": 29,
   "metadata": {
    "execution": {
     "iopub.execute_input": "2021-04-11T12:56:02.496054Z",
     "iopub.status.busy": "2021-04-11T12:56:02.495128Z",
     "iopub.status.idle": "2021-04-11T12:56:03.633827Z",
     "shell.execute_reply": "2021-04-11T12:56:03.634421Z"
    },
    "papermill": {
     "duration": 1.186578,
     "end_time": "2021-04-11T12:56:03.634619",
     "exception": false,
     "start_time": "2021-04-11T12:56:02.448041",
     "status": "completed"
    },
    "tags": []
   },
   "outputs": [
    {
     "name": "stdout",
     "output_type": "stream",
     "text": [
      "[12:56:02] WARNING: ../src/learner.cc:1061: Starting in XGBoost 1.3.0, the default evaluation metric used with the objective 'binary:logistic' was changed from 'error' to 'logloss'. Explicitly set eval_metric if you'd like to restore the old behavior.\n",
      "The accuracy using the XGBclassifier is : 0.7706905640484977\n"
     ]
    }
   ],
   "source": [
    "xgbc = XGBClassifier(use_label_encoder=False)\n",
    "xgbc.fit(X_ros,y_ros)\n",
    "xgb_accuracy = accuracy_score(y_test,xgbc.predict(X_test))\n",
    "print('The accuracy using the XGBclassifier is :', xgb_accuracy)"
   ]
  },
  {
   "cell_type": "code",
   "execution_count": 30,
   "metadata": {
    "execution": {
     "iopub.execute_input": "2021-04-11T12:56:03.722695Z",
     "iopub.status.busy": "2021-04-11T12:56:03.721770Z",
     "iopub.status.idle": "2021-04-11T12:56:03.885552Z",
     "shell.execute_reply": "2021-04-11T12:56:03.884975Z"
    },
    "papermill": {
     "duration": 0.208919,
     "end_time": "2021-04-11T12:56:03.885721",
     "exception": false,
     "start_time": "2021-04-11T12:56:03.676802",
     "status": "completed"
    },
    "tags": []
   },
   "outputs": [
    {
     "data": {
      "text/plain": [
       "<sklearn.metrics._plot.roc_curve.RocCurveDisplay at 0x7f8c5dc50690>"
      ]
     },
     "execution_count": 30,
     "metadata": {},
     "output_type": "execute_result"
    },
    {
     "data": {
      "image/png": "[encoded data removed]",
      "text/plain": [
       "<Figure size 432x288 with 1 Axes>"
      ]
     },
     "metadata": {
      "needs_background": "light"
     },
     "output_type": "display_data"
    }
   ],
   "source": [
    "plot_roc_curve(xgbc, X_test, y_test)"
   ]
  },
  {
   "cell_type": "markdown",
   "metadata": {
    "papermill": {
     "duration": 0.042068,
     "end_time": "2021-04-11T12:56:03.970072",
     "exception": false,
     "start_time": "2021-04-11T12:56:03.928004",
     "status": "completed"
    },
    "tags": []
   },
   "source": [
    "# Comparison of Models"
   ]
  },
  {
   "cell_type": "markdown",
   "metadata": {
    "papermill": {
     "duration": 0.042254,
     "end_time": "2021-04-11T12:56:04.056307",
     "exception": false,
     "start_time": "2021-04-11T12:56:04.014053",
     "status": "completed"
    },
    "tags": []
   },
   "source": [
    "Let's check out which one out of our models has the best accuracy score."
   ]
  },
  {
   "cell_type": "code",
   "execution_count": 31,
   "metadata": {
    "execution": {
     "iopub.execute_input": "2021-04-11T12:56:04.146122Z",
     "iopub.status.busy": "2021-04-11T12:56:04.145205Z",
     "iopub.status.idle": "2021-04-11T12:56:04.159593Z",
     "shell.execute_reply": "2021-04-11T12:56:04.160050Z"
    },
    "papermill": {
     "duration": 0.061906,
     "end_time": "2021-04-11T12:56:04.160220",
     "exception": false,
     "start_time": "2021-04-11T12:56:04.098314",
     "status": "completed"
    },
    "tags": []
   },
   "outputs": [
    {
     "ename": "NameError",
     "evalue": "name 'knn_accuracy' is not defined",
     "output_type": "error",
     "traceback": [
      "\u001b[0;31m---------------------------------------------------------------------------\u001b[0m",
      "\u001b[0;31mNameError\u001b[0m                                 Traceback (most recent call last)",
      "\u001b[0;32m<ipython-input-31-d47f5042d9c2>\u001b[0m in \u001b[0;36m<module>\u001b[0;34m\u001b[0m\n\u001b[0;32m----> 1\u001b[0;31m \u001b[0maccuracies\u001b[0m \u001b[0;34m=\u001b[0m \u001b[0;34m{\u001b[0m\u001b[0;34m\"KNN Accuracy\"\u001b[0m\u001b[0;34m:\u001b[0m\u001b[0mknn_accuracy\u001b[0m\u001b[0;34m,\u001b[0m \u001b[0;34m\"Decision Tree Accuracy\"\u001b[0m\u001b[0;34m:\u001b[0m\u001b[0mdt_accuracy\u001b[0m\u001b[0;34m,\u001b[0m \u001b[0;34m\"Random Forest Accuracy\"\u001b[0m\u001b[0;34m:\u001b[0m\u001b[0mrf_accuracy\u001b[0m\u001b[0;34m,\u001b[0m \u001b[0;34m\"XGB Accuracy\"\u001b[0m\u001b[0;34m:\u001b[0m\u001b[0mxgb_accuracy\u001b[0m\u001b[0;34m}\u001b[0m\u001b[0;34m\u001b[0m\u001b[0;34m\u001b[0m\u001b[0m\n\u001b[0m\u001b[1;32m      2\u001b[0m \u001b[0mprint\u001b[0m\u001b[0;34m(\u001b[0m\u001b[0;34m\"The best score has the model: \"\u001b[0m\u001b[0;34m,\u001b[0m \u001b[0mmax\u001b[0m\u001b[0;34m(\u001b[0m\u001b[0maccuracies\u001b[0m\u001b[0;34m,\u001b[0m \u001b[0mkey\u001b[0m\u001b[0;34m=\u001b[0m\u001b[0maccuracies\u001b[0m\u001b[0;34m.\u001b[0m\u001b[0mget\u001b[0m\u001b[0;34m)\u001b[0m\u001b[0;34m)\u001b[0m\u001b[0;34m\u001b[0m\u001b[0;34m\u001b[0m\u001b[0m\n",
      "\u001b[0;31mNameError\u001b[0m: name 'knn_accuracy' is not defined"
     ]
    }
   ],
   "source": [
    "accuracies = {\"KNN Accuracy\":knn_accuracy, \"Decision Tree Accuracy\":dt_accuracy, \"Random Forest Accuracy\":rf_accuracy, \"XGB Accuracy\":xgb_accuracy}\n",
    "print(\"The best score has the model: \", max(accuracies, key=accuracies.get))"
   ]
  },
  {
   "cell_type": "markdown",
   "metadata": {
    "papermill": {
     "duration": 0.041959,
     "end_time": "2021-04-11T12:56:04.244304",
     "exception": false,
     "start_time": "2021-04-11T12:56:04.202345",
     "status": "completed"
    },
    "tags": []
   },
   "source": [
    "The decission tree model has the highest accuracy. Let's now chek how good were another ones!"
   ]
  },
  {
   "cell_type": "code",
   "execution_count": 32,
   "metadata": {
    "execution": {
     "iopub.execute_input": "2021-04-11T12:56:04.333033Z",
     "iopub.status.busy": "2021-04-11T12:56:04.332091Z",
     "iopub.status.idle": "2021-04-11T12:56:04.348513Z",
     "shell.execute_reply": "2021-04-11T12:56:04.349007Z"
    },
    "papermill": {
     "duration": 0.062371,
     "end_time": "2021-04-11T12:56:04.349171",
     "exception": false,
     "start_time": "2021-04-11T12:56:04.286800",
     "status": "completed"
    },
    "tags": []
   },
   "outputs": [
    {
     "ename": "NameError",
     "evalue": "name 'accuracies' is not defined",
     "output_type": "error",
     "traceback": [
      "\u001b[0;31m---------------------------------------------------------------------------\u001b[0m",
      "\u001b[0;31mNameError\u001b[0m                                 Traceback (most recent call last)",
      "\u001b[0;32m<ipython-input-32-37b5176aa2ff>\u001b[0m in \u001b[0;36m<module>\u001b[0;34m\u001b[0m\n\u001b[1;32m      1\u001b[0m \u001b[0mplt\u001b[0m\u001b[0;34m.\u001b[0m\u001b[0mfigure\u001b[0m\u001b[0;34m(\u001b[0m\u001b[0mfigsize\u001b[0m\u001b[0;34m=\u001b[0m\u001b[0;34m(\u001b[0m\u001b[0;36m20\u001b[0m\u001b[0;34m,\u001b[0m\u001b[0;36m10\u001b[0m\u001b[0;34m)\u001b[0m\u001b[0;34m)\u001b[0m\u001b[0;34m\u001b[0m\u001b[0;34m\u001b[0m\u001b[0m\n\u001b[0;32m----> 2\u001b[0;31m \u001b[0mplt\u001b[0m\u001b[0;34m.\u001b[0m\u001b[0mbar\u001b[0m\u001b[0;34m(\u001b[0m\u001b[0;34m*\u001b[0m\u001b[0mzip\u001b[0m\u001b[0;34m(\u001b[0m\u001b[0;34m*\u001b[0m\u001b[0maccuracies\u001b[0m\u001b[0;34m.\u001b[0m\u001b[0mitems\u001b[0m\u001b[0;34m(\u001b[0m\u001b[0;34m)\u001b[0m\u001b[0;34m)\u001b[0m\u001b[0;34m,\u001b[0m \u001b[0mcolor\u001b[0m\u001b[0;34m=\u001b[0m\u001b[0mcolorblind_palette\u001b[0m\u001b[0;34m,\u001b[0m \u001b[0mwidth\u001b[0m \u001b[0;34m=\u001b[0m \u001b[0;36m0.8\u001b[0m\u001b[0;34m)\u001b[0m\u001b[0;34m\u001b[0m\u001b[0;34m\u001b[0m\u001b[0m\n\u001b[0m\u001b[1;32m      3\u001b[0m \u001b[0mplt\u001b[0m\u001b[0;34m.\u001b[0m\u001b[0mtitle\u001b[0m\u001b[0;34m(\u001b[0m\u001b[0;34m\"Comparison of different models accuracies\"\u001b[0m\u001b[0;34m)\u001b[0m\u001b[0;34m\u001b[0m\u001b[0;34m\u001b[0m\u001b[0m\n\u001b[1;32m      4\u001b[0m \u001b[0mplt\u001b[0m\u001b[0;34m.\u001b[0m\u001b[0mshow\u001b[0m\u001b[0;34m(\u001b[0m\u001b[0;34m)\u001b[0m\u001b[0;34m\u001b[0m\u001b[0;34m\u001b[0m\u001b[0m\n",
      "\u001b[0;31mNameError\u001b[0m: name 'accuracies' is not defined"
     ]
    },
    {
     "data": {
      "text/plain": [
       "<Figure size 1440x720 with 0 Axes>"
      ]
     },
     "metadata": {},
     "output_type": "display_data"
    }
   ],
   "source": [
    "plt.figure(figsize=(20,10))\n",
    "plt.bar(*zip(*accuracies.items()), color=colorblind_palette, width = 0.8)\n",
    "plt.title(\"Comparison of different models accuracies\")\n",
    "plt.show()"
   ]
  }
 ],
 "metadata": {
  "kernelspec": {
   "display_name": "Python 3",
   "language": "python",
   "name": "python3"
  },
  "language_info": {
   "codemirror_mode": {
    "name": "ipython",
    "version": 3
   },
   "file_extension": ".py",
   "mimetype": "text/x-python",
   "name": "python",
   "nbconvert_exporter": "python",
   "pygments_lexer": "ipython3",
   "version": "3.7.9"
  },
  "papermill": {
   "default_parameters": {},
   "duration": 122.781182,
   "end_time": "2021-04-11T12:56:05.002052",
   "environment_variables": {},
   "exception": null,
   "input_path": "__notebook__.ipynb",
   "output_path": "__notebook__.ipynb",
   "parameters": {},
   "start_time": "2021-04-11T12:54:02.220870",
   "version": "2.2.2"
  }
 },
 "nbformat": 4,
 "nbformat_minor": 4
}
